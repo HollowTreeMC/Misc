{
 "cells": [
  {
   "cell_type": "code",
   "execution_count": 2,
   "metadata": {},
   "outputs": [],
   "source": [
    "import yaml\n",
    "import os\n",
    "\n",
    "yaml_file = 'C:/Users/jocke/Desktop/Brewery/DrinkConfig.yaml'\n",
    "destination = 'C:/Users/jocke/Desktop/Brewery/FlatFiles/'  #Destination Folder"
   ]
  },
  {
   "cell_type": "code",
   "execution_count": 3,
   "metadata": {},
   "outputs": [],
   "source": [
    "def ReadYamlFile():\n",
    "    with open(yaml_file, 'r') as file:\n",
    "        data = yaml.safe_load(file)\n",
    "    return data"
   ]
  },
  {
   "cell_type": "code",
   "execution_count": 36,
   "metadata": {},
   "outputs": [
    {
     "ename": "IndexError",
     "evalue": "list index out of range",
     "output_type": "error",
     "traceback": [
      "\u001b[1;31m---------------------------------------------------------------------------\u001b[0m",
      "\u001b[1;31mIndexError\u001b[0m                                Traceback (most recent call last)",
      "Cell \u001b[1;32mIn[36], line 9\u001b[0m\n\u001b[0;32m      7\u001b[0m \u001b[38;5;28;01mif\u001b[39;00m details\u001b[38;5;241m.\u001b[39mget(\u001b[38;5;124m'\u001b[39m\u001b[38;5;124mingredients\u001b[39m\u001b[38;5;124m'\u001b[39m,\u001b[38;5;28;01mNone\u001b[39;00m) \u001b[38;5;241m!=\u001b[39m \u001b[38;5;28;01mNone\u001b[39;00m:\n\u001b[0;32m      8\u001b[0m     \u001b[38;5;28;01mfor\u001b[39;00m ingredient \u001b[38;5;129;01min\u001b[39;00m details[\u001b[38;5;124m'\u001b[39m\u001b[38;5;124mingredients\u001b[39m\u001b[38;5;124m'\u001b[39m]:\n\u001b[1;32m----> 9\u001b[0m         ingredients \u001b[38;5;241m+\u001b[39m\u001b[38;5;241m=\u001b[39m \u001b[38;5;124mf\u001b[39m\u001b[38;5;124m\"\u001b[39m\u001b[38;5;124m- \u001b[39m\u001b[38;5;132;01m{\u001b[39;00m\u001b[43mingredient\u001b[49m\u001b[38;5;241;43m.\u001b[39;49m\u001b[43msplit\u001b[49m\u001b[43m(\u001b[49m\u001b[38;5;124;43m'\u001b[39;49m\u001b[38;5;124;43m/\u001b[39;49m\u001b[38;5;124;43m'\u001b[39;49m\u001b[43m)\u001b[49m\u001b[43m[\u001b[49m\u001b[38;5;241;43m1\u001b[39;49m\u001b[43m]\u001b[49m\u001b[38;5;132;01m}\u001b[39;00m\u001b[38;5;124m \u001b[39m\u001b[38;5;132;01m{\u001b[39;00mingredient\u001b[38;5;241m.\u001b[39msplit(\u001b[38;5;124m'\u001b[39m\u001b[38;5;124m/\u001b[39m\u001b[38;5;124m'\u001b[39m)[\u001b[38;5;241m0\u001b[39m]\u001b[38;5;132;01m}\u001b[39;00m\u001b[38;5;130;01m\\n\u001b[39;00m\u001b[38;5;124m\"\u001b[39m\n\u001b[0;32m     10\u001b[0m \u001b[38;5;28;01melse\u001b[39;00m:\n\u001b[0;32m     11\u001b[0m     ingredients \u001b[38;5;241m=\u001b[39m \u001b[38;5;124m\"\u001b[39m\u001b[38;5;124mNone!\u001b[39m\u001b[38;5;124m\"\u001b[39m\n",
      "\u001b[1;31mIndexError\u001b[0m: list index out of range"
     ]
    }
   ],
   "source": [
    "data = ReadYamlFile()\n",
    "recipies = {}\n",
    "for recipie_name, details in data.items():\n",
    "    file_path = f\"{destination}BreweryDrink{recipie_name}.txt\"\n",
    "\n",
    "    ingredients = \"\"\n",
    "    if details.get('ingredients',None) != None:\n",
    "        for ingredient in details['ingredients']:\n",
    "            ingredients += f\"- {ingredient.split('/')[1]} {ingredient.split('/')[0]}\\n\"\n",
    "    else:\n",
    "        ingredients = \"None!\"\n",
    "\n",
    "    effects = \"\"\n",
    "    try:\n",
    "        if details.get('effects',None) != None:\n",
    "            for effect in details['effects']:\n",
    "                effects += f\"- {effect.split('/')[1]} {effect.split('/')[0]}\\n\"\n",
    "        else:\n",
    "            effects = \"No Effects!\"\n",
    "    except:\n",
    "        effects = \"Script Error!\"\n",
    "\n",
    "    content = f\"\"\"<AutoPage><AutoAlias><ReqPermission>\n",
    "{recipie_name}\n",
    "Ingredients:\n",
    "{ingredients}\n",
    "Cook Time: {details['cookingtime']}\"\"\"\n",
    "    \n",
    "    if details.get('wood',None) != None:\n",
    "        content += f\"\"\"\n",
    "Wood Type: {details['wood']}\"\"\"\n",
    "\n",
    "    if details.get('age',None) != None:\n",
    "        content += f\"\"\"\n",
    "Age: {details['age']}\"\"\"\n",
    "\n",
    "    content += f\"\"\"\n",
    "\n",
    "<NextPage>\n",
    "\n",
    "Alcohol Level: {details['alcohol']}\n",
    "Difficulty: {details['difficulty']}\n",
    "Effects:\n",
    "{effects}\"\"\"\n",
    "    \n",
    "    if int(details['alcohol']) > 0:\n",
    "        content += f\"\"\"\n",
    "<NextPage>\n",
    "\n",
    "&9Tip: Eating bread or drinking milk may sober you at a slightly increased rate!\n",
    "&1This is a virtual alcoholic beverage recipe! We do not advocate for underage drinking in real life. Please drink responsibly.\n",
    "\"\"\"\n",
    "    \n",
    "    with open(file_path, 'w') as file:\n",
    "        file.write(content)"
   ]
  }
 ],
 "metadata": {
  "kernelspec": {
   "display_name": "Python 3",
   "language": "python",
   "name": "python3"
  },
  "language_info": {
   "codemirror_mode": {
    "name": "ipython",
    "version": 3
   },
   "file_extension": ".py",
   "mimetype": "text/x-python",
   "name": "python",
   "nbconvert_exporter": "python",
   "pygments_lexer": "ipython3",
   "version": "3.11.2"
  }
 },
 "nbformat": 4,
 "nbformat_minor": 2
}
