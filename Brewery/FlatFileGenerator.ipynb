{
 "cells": [
  {
   "cell_type": "code",
   "execution_count": 1,
   "metadata": {},
   "outputs": [],
   "source": [
    "import yaml\n",
    "import re\n",
    "import os\n",
    "\n",
    "#Set to your local directory \n",
    "yaml_file = 'C:/Users/jocke/Documents/GitHub/Misc/Brewery/DrinkConfig.yaml'\n",
    "destination = 'C:/Users/jocke/Documents/GitHub/Misc/Brewery/FlatFiles/'"
   ]
  },
  {
   "cell_type": "code",
   "execution_count": 2,
   "metadata": {},
   "outputs": [],
   "source": [
    "class Recipe:\n",
    "    def __init__(self, name: str, cookingtime: int, ingredients: list, difficulty: int, **kwargs):\n",
    "        # required params\n",
    "        self.name = name\n",
    "        self.cookingtime = cookingtime\n",
    "        self.ingredients = ingredients\n",
    "        self.difficulty = difficulty\n",
    "\n",
    "        # optional params\n",
    "        self.distilltime = kwargs.get('distilltime', None)\n",
    "        self.distillruns = kwargs.get('distillruns', None)\n",
    "        self.wood = kwargs.get('wood', None)\n",
    "        self.age = kwargs.get('age', None)\n",
    "        self.alcohol = kwargs.get('alcohol', None)\n",
    "        self.effects = kwargs.get('effects', None)\n",
    "\n",
    "    def difficulty_word(self):\n",
    "        difficulty_levels = [\"rather simple\",\"relatively straightforward\",\"easy\",\"of moderate difficulty\"\n",
    "            ,\"of intermediate difficulty\",\"somewhat challenging\",\"rather difficult\",\"very complex\",\"quite hard\",\"one of the most difficult\"]\n",
    "        return difficulty_levels[self.difficulty-1]\n",
    "    \n",
    "    def wood_word(self):\n",
    "        wood_types = [\" birch\",\"n oak\",\" jungle\",\" spruce\",\"n acacia\",\" dark oak\",\" crimson\",\" warped\",\" mangrove\",\" cherry\",\" bamboo\",\" cut copper\"]\n",
    "        return wood_types[self.wood]"
   ]
  },
  {
   "cell_type": "code",
   "execution_count": 6,
   "metadata": {},
   "outputs": [],
   "source": [
    "#Read in YML config file, store in data, if there is an error calling this function, check your yaml file for un-indented items\n",
    "def parse_yaml():\n",
    "    recipes:list[Recipe] = []\n",
    "\n",
    "    with open(yaml_file, 'r') as file:\n",
    "        data = yaml.safe_load(file)\n",
    "\n",
    "    for recipe in data:\n",
    "        current_recipe = Recipe(\n",
    "            name=recipe,\n",
    "            cookingtime=int(data[recipe][\"cookingtime\"]),\n",
    "            ingredients=data[recipe][\"ingredients\"],\n",
    "            difficulty=int(data[recipe][\"difficulty\"]),\n",
    "        )\n",
    "\n",
    "        for key in ['distilltime', 'distillruns', 'wood', 'age', 'alcohol', 'effects']:\n",
    "            if key in data[recipe]:\n",
    "                setattr(current_recipe, key, data[recipe][key])\n",
    "\n",
    "        recipes.append(current_recipe)\n",
    "    \n",
    "    return recipes"
   ]
  },
  {
   "cell_type": "code",
   "execution_count": 4,
   "metadata": {},
   "outputs": [],
   "source": [
    "#Generates book given a particlar recipe\n",
    "def generate_book(recipe:Recipe):\n",
    "    #required params\n",
    "    content=\"<AutoPage><AutoAlias><ReqPermission>\\n\"\n",
    "    seperated_name=re.sub(r'([a-z])([A-Z])', r'\\1 \\2', recipe.name)\n",
    "    content+=f\"&l{seperated_name}\\n\"\n",
    "    content+=f\"Ingredients:\\n\"\n",
    "    for ingredient in recipe.ingredients:\n",
    "        content+=f\"&o- {ingredient.split('/')[1]} {ingredient.split('/')[0]}\\n\"\n",
    "    content+=f\"<NextPage>\\n\"\n",
    "    content+=f\"This recipe will require &l{recipe.cookingtime} &0minutes, and is &l{recipe.difficulty_word()}&0 to create.\\n\"\n",
    "    #optional params\n",
    "    if recipe.wood !=None:\n",
    "        if recipe.wood == 0:\n",
    "            content+=f\"One can use any type of barrel, but must age for {recipe.age} days.\"\n",
    "        else:\n",
    "            content+=f\"It is best to use a{recipe.wood_word()} wood barrel, and age for {recipe.age} days.\\n\"\n",
    "    if recipe.distillruns!=None:\n",
    "        content+=f\"Master brewers have found that it must be distilled {recipe.distillruns} times for {recipe.distilltime} seconds or so...\"\n",
    "    if recipe.alcohol!=None:\n",
    "        content+=f\"Properly brewed, this will have an alcohol density of {recipe.alcohol}\\n\"\n",
    "    if recipe.effects!=None:\n",
    "        content+=\"\\nEffects include:\\n\"\n",
    "        for effects in recipe.effects:\n",
    "            content+=f\"&o- {effects.split('/')[0].lower()}\\n\"\n",
    "    if recipe.alcohol!=None:\n",
    "        content+=\"<NextPage>\\n&9Tip: Eating bread or drinking milk may sober you at a slightly increased rate!\\n&1This is a virtual alcoholic beverage recipe!We do not advocate for underage drinking in real life. Please drink responsibly.\"\n",
    "\n",
    "    file_path = f\"{destination}{recipe.name}.txt\"\n",
    "    with open(file_path,'w',newline=\"\\n\") as file:\n",
    "        file.write(content)"
   ]
  },
  {
   "cell_type": "code",
   "execution_count": 5,
   "metadata": {},
   "outputs": [],
   "source": [
    "#Call function to convert yaml into Recipe objects\n",
    "recipes:list[Recipe] = parse_yaml()\n",
    "#Iterate through Recipes, creating a book for each\n",
    "for recipe in recipes:\n",
    "    try:\n",
    "        generate_book(recipe)\n",
    "    except Exception as e:\n",
    "        print(f\"There was an issue creating {recipe.name}! Please take a look.\")\n",
    "        print(e)"
   ]
  }
 ],
 "metadata": {
  "kernelspec": {
   "display_name": "Python 3",
   "language": "python",
   "name": "python3"
  },
  "language_info": {
   "codemirror_mode": {
    "name": "ipython",
    "version": 3
   },
   "file_extension": ".py",
   "mimetype": "text/x-python",
   "name": "python",
   "nbconvert_exporter": "python",
   "pygments_lexer": "ipython3",
   "version": "3.11.2"
  }
 },
 "nbformat": 4,
 "nbformat_minor": 2
}
